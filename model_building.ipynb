{
 "metadata": {
  "language_info": {
   "codemirror_mode": {
    "name": "ipython",
    "version": 3
   },
   "file_extension": ".py",
   "mimetype": "text/x-python",
   "name": "python",
   "nbconvert_exporter": "python",
   "pygments_lexer": "ipython3",
   "version": "3.9.1"
  },
  "orig_nbformat": 4,
  "kernelspec": {
   "name": "python3",
   "display_name": "Python 3.9.1 64-bit ('base': conda)"
  },
  "interpreter": {
   "hash": "350970fa0991a154465bf99621495fbe67be0e39667703e85afd9f7ccbbac897"
  }
 },
 "nbformat": 4,
 "nbformat_minor": 2,
 "cells": [
  {
   "cell_type": "code",
   "execution_count": 45,
   "metadata": {},
   "outputs": [],
   "source": [
    "import numpy as np \n",
    "import pandas as pd \n",
    "import seaborn as sns "
   ]
  },
  {
   "cell_type": "code",
   "execution_count": 160,
   "metadata": {},
   "outputs": [],
   "source": [
    "dataset = pd.read_csv('codedTrainingSet.csv')\n",
    "finalTestSet = pd.read_csv('codedTrainingSet.csv')\n",
    "\n"
   ]
  },
  {
   "cell_type": "code",
   "execution_count": 198,
   "metadata": {},
   "outputs": [],
   "source": [
    "from sklearn.model_selection import train_test_split\n",
    "X_train, X_test, y_train, y_test = train_test_split(dataset[['First Class', 'Sex', 'Age', 'Fare', 'SibSp', 'Parch', 'Embarked','First Class',\n",
    "       'Second Class', 'Third Class', 'Young (0-20 years old)',\n",
    "       'Young Adult (20-28 years old)', 'Adult (28-38 years old)',\n",
    "       'Old (38+ years old)', 'Have Siblings', 'Have Parents or Children',\n",
    "       'Very Cheap (<7.9$)', 'Cheap (7.9-14.45$)', 'Normal (14.45-31$)',\n",
    "       'Expensive (>31$)']], dataset['Survived'])\n",
    "\n",
    "X_train = X_train.dropna()\n",
    "y_train = y_train.loc[X_train.index]\n",
    "\n",
    "X_test = X_test.dropna()\n",
    "y_test = y_test.loc[X_test.index]"
   ]
  },
  {
   "cell_type": "code",
   "execution_count": 57,
   "metadata": {},
   "outputs": [
    {
     "output_type": "execute_result",
     "data": {
      "text/plain": [
       "Index(['PassengerId', 'Survived', 'Pclass', 'Name', 'Sex', 'Age', 'SibSp',\n",
       "       'Parch', 'Ticket', 'Fare', 'Cabin', 'Embarked', 'First Class',\n",
       "       'Second Class', 'Third Class', 'Young (0-20 years old)',\n",
       "       'Young Adult (20-28 years old)', 'Adult (28-38 years old)',\n",
       "       'Old (38+ years old)', 'Have Siblings', 'Have Parents or Children',\n",
       "       'Very Cheap (<7.9$)', 'Cheap (7.9-14.45$)', 'Normal (14.45-31$)',\n",
       "       'Expensive (>31$)', 'Southampton', 'Queenstown', 'Cherbourg'],\n",
       "      dtype='object')"
      ]
     },
     "metadata": {},
     "execution_count": 57
    }
   ],
   "source": [
    "dataset.columns"
   ]
  },
  {
   "cell_type": "code",
   "execution_count": 201,
   "metadata": {},
   "outputs": [],
   "source": [
    "from sklearn.linear_model import LogisticRegressionCV\n",
    "model1 = LogisticRegressionCV(cv=5, max_iter=1000).fit(X_train,y_train)"
   ]
  },
  {
   "cell_type": "code",
   "execution_count": 202,
   "metadata": {},
   "outputs": [
    {
     "output_type": "stream",
     "name": "stdout",
     "text": [
      "0.8107606679035251\n"
     ]
    },
    {
     "output_type": "execute_result",
     "data": {
      "text/plain": [
       "0.7942857142857143"
      ]
     },
     "metadata": {},
     "execution_count": 202
    }
   ],
   "source": [
    "print(model1.score(X_train,y_train))\n",
    "model1.score(X_test,y_test)"
   ]
  },
  {
   "cell_type": "code",
   "execution_count": null,
   "metadata": {},
   "outputs": [],
   "source": []
  }
 ]
}