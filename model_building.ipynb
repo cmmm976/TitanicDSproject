{
 "metadata": {
  "language_info": {
   "codemirror_mode": {
    "name": "ipython",
    "version": 3
   },
   "file_extension": ".py",
   "mimetype": "text/x-python",
   "name": "python",
   "nbconvert_exporter": "python",
   "pygments_lexer": "ipython3",
   "version": "3.9.1"
  },
  "orig_nbformat": 4,
  "kernelspec": {
   "name": "python3",
   "display_name": "Python 3.9.1 64-bit ('base': conda)"
  },
  "interpreter": {
   "hash": "350970fa0991a154465bf99621495fbe67be0e39667703e85afd9f7ccbbac897"
  }
 },
 "nbformat": 4,
 "nbformat_minor": 2,
 "cells": [
  {
   "cell_type": "code",
   "execution_count": 1,
   "metadata": {},
   "outputs": [],
   "source": [
    "import numpy as np \n",
    "import pandas as pd \n",
    "import seaborn as sns "
   ]
  },
  {
   "cell_type": "code",
   "execution_count": 41,
   "metadata": {},
   "outputs": [],
   "source": [
    "dataset = pd.read_csv('codedTrainingSet.csv')\n",
    "finalTestSet = pd.read_csv('codedTestSet.csv')\n",
    "\n",
    "features = ['Pclass', 'Sex', 'Age', 'Fare', 'SibSp', 'Parch', 'Embarked','First Class',\n",
    "       'Second Class', 'Third Class', 'Young (0-20 years old)',\n",
    "       'Young Adult (20-28 years old)', 'Adult (28-38 years old)',\n",
    "       'Old (38+ years old)', 'Have Siblings', 'Have Parents or Children',\n",
    "       'Very Cheap (<7.9$)', 'Cheap (7.9-14.45$)', 'Normal (14.45-31$)',\n",
    "       'Expensive (>31$)','Southampton','Cherbourg','Queenstown']\n",
    "label = 'Survived'\n",
    "\n",
    "finalTestSet = finalTestSet[['PassengerId','Pclass', 'Sex', 'Age', 'Fare', 'SibSp', 'Parch', 'Embarked','First Class',\n",
    "       'Second Class', 'Third Class', 'Young (0-20 years old)',\n",
    "       'Young Adult (20-28 years old)', 'Adult (28-38 years old)',\n",
    "       'Old (38+ years old)', 'Have Siblings', 'Have Parents or Children',\n",
    "       'Very Cheap (<7.9$)', 'Cheap (7.9-14.45$)', 'Normal (14.45-31$)',\n",
    "       'Expensive (>31$)','Southampton','Cherbourg','Queenstown']]"
   ]
  },
  {
   "cell_type": "code",
   "execution_count": 42,
   "metadata": {},
   "outputs": [],
   "source": [
    "from sklearn.model_selection import train_test_split\n",
    "X_train, X_test, y_train, y_test = train_test_split(dataset[features], dataset[label],random_state=0)\n",
    "\n",
    "X_train = X_train.dropna()\n",
    "y_train = y_train.loc[X_train.index]\n",
    "\n",
    "X_test = X_test.dropna()\n",
    "y_test = y_test.loc[X_test.index]"
   ]
  },
  {
   "cell_type": "code",
   "execution_count": 73,
   "metadata": {
    "tags": []
   },
   "outputs": [
    {
     "output_type": "stream",
     "name": "stdout",
     "text": [
      "Optimization terminated successfully.\n",
      "         Current function value: 0.639348\n",
      "         Iterations 4\n",
      "                           Logit Regression Results                           \n",
      "==============================================================================\n",
      "Dep. Variable:               Survived   No. Observations:                  666\n",
      "Model:                          Logit   Df Residuals:                      665\n",
      "Method:                           MLE   Df Model:                            0\n",
      "Date:                Fri, 18 Jun 2021   Pseudo R-squ.:                 0.04026\n",
      "Time:                        16:52:49   Log-Likelihood:                -425.81\n",
      "converged:                       True   LL-Null:                       -443.67\n",
      "Covariance Type:            nonrobust   LLR p-value:                       nan\n",
      "==============================================================================\n",
      "                 coef    std err          z      P>|z|      [0.025      0.975]\n",
      "------------------------------------------------------------------------------\n",
      "Pclass        -0.2773      0.034     -8.156      0.000      -0.344      -0.211\n",
      "==============================================================================\n",
      "Optimization terminated successfully.\n",
      "         Current function value: 0.647755\n",
      "         Iterations 5\n",
      "                           Logit Regression Results                           \n",
      "==============================================================================\n",
      "Dep. Variable:               Survived   No. Observations:                  666\n",
      "Model:                          Logit   Df Residuals:                      665\n",
      "Method:                           MLE   Df Model:                            0\n",
      "Date:                Fri, 18 Jun 2021   Pseudo R-squ.:                 0.02764\n",
      "Time:                        16:52:49   Log-Likelihood:                -431.40\n",
      "converged:                       True   LL-Null:                       -443.67\n",
      "Covariance Type:            nonrobust   LLR p-value:                       nan\n",
      "==============================================================================\n",
      "                 coef    std err          z      P>|z|      [0.025      0.975]\n",
      "------------------------------------------------------------------------------\n",
      "Sex            1.1044      0.153      7.226      0.000       0.805       1.404\n",
      "==============================================================================\n",
      "Optimization terminated successfully.\n",
      "         Current function value: 0.662984\n",
      "         Iterations 4\n",
      "                           Logit Regression Results                           \n",
      "==============================================================================\n",
      "Dep. Variable:               Survived   No. Observations:                  666\n",
      "Model:                          Logit   Df Residuals:                      665\n",
      "Method:                           MLE   Df Model:                            0\n",
      "Date:                Fri, 18 Jun 2021   Pseudo R-squ.:                0.004782\n",
      "Time:                        16:52:49   Log-Likelihood:                -441.55\n",
      "converged:                       True   LL-Null:                       -443.67\n",
      "Covariance Type:            nonrobust   LLR p-value:                       nan\n",
      "==============================================================================\n",
      "                 coef    std err          z      P>|z|      [0.025      0.975]\n",
      "------------------------------------------------------------------------------\n",
      "Age           -0.0155      0.003     -6.179      0.000      -0.020      -0.011\n",
      "==============================================================================\n",
      "Optimization terminated successfully.\n",
      "         Current function value: 0.691257\n",
      "         Iterations 4\n",
      "                           Logit Regression Results                           \n",
      "==============================================================================\n",
      "Dep. Variable:               Survived   No. Observations:                  666\n",
      "Model:                          Logit   Df Residuals:                      665\n",
      "Method:                           MLE   Df Model:                            0\n",
      "Date:                Fri, 18 Jun 2021   Pseudo R-squ.:                -0.03766\n",
      "Time:                        16:52:49   Log-Likelihood:                -460.38\n",
      "converged:                       True   LL-Null:                       -443.67\n",
      "Covariance Type:            nonrobust   LLR p-value:                       nan\n",
      "==============================================================================\n",
      "                 coef    std err          z      P>|z|      [0.025      0.975]\n",
      "------------------------------------------------------------------------------\n",
      "Fare           0.0021      0.001      1.547      0.122      -0.001       0.005\n",
      "==============================================================================\n",
      "Optimization terminated successfully.\n",
      "         Current function value: 0.682710\n",
      "         Iterations 5\n",
      "                           Logit Regression Results                           \n",
      "==============================================================================\n",
      "Dep. Variable:               Survived   No. Observations:                  666\n",
      "Model:                          Logit   Df Residuals:                      665\n",
      "Method:                           MLE   Df Model:                            0\n",
      "Date:                Fri, 18 Jun 2021   Pseudo R-squ.:                -0.02483\n",
      "Time:                        16:52:49   Log-Likelihood:                -454.68\n",
      "converged:                       True   LL-Null:                       -443.67\n",
      "Covariance Type:            nonrobust   LLR p-value:                       nan\n",
      "==============================================================================\n",
      "                 coef    std err          z      P>|z|      [0.025      0.975]\n",
      "------------------------------------------------------------------------------\n",
      "SibSp         -0.2505      0.074     -3.397      0.001      -0.395      -0.106\n",
      "==============================================================================\n",
      "Optimization terminated successfully.\n",
      "         Current function value: 0.692800\n",
      "         Iterations 3\n",
      "                           Logit Regression Results                           \n",
      "==============================================================================\n",
      "Dep. Variable:               Survived   No. Observations:                  666\n",
      "Model:                          Logit   Df Residuals:                      665\n",
      "Method:                           MLE   Df Model:                            0\n",
      "Date:                Fri, 18 Jun 2021   Pseudo R-squ.:                -0.03997\n",
      "Time:                        16:52:49   Log-Likelihood:                -461.40\n",
      "converged:                       True   LL-Null:                       -443.67\n",
      "Covariance Type:            nonrobust   LLR p-value:                       nan\n",
      "==============================================================================\n",
      "                 coef    std err          z      P>|z|      [0.025      0.975]\n",
      "------------------------------------------------------------------------------\n",
      "Parch         -0.0579      0.085     -0.679      0.497      -0.225       0.109\n",
      "==============================================================================\n",
      "Optimization terminated successfully.\n",
      "         Current function value: 0.684063\n",
      "         Iterations 4\n",
      "                           Logit Regression Results                           \n",
      "==============================================================================\n",
      "Dep. Variable:               Survived   No. Observations:                  666\n",
      "Model:                          Logit   Df Residuals:                      665\n",
      "Method:                           MLE   Df Model:                            0\n",
      "Date:                Fri, 18 Jun 2021   Pseudo R-squ.:                -0.02686\n",
      "Time:                        16:52:49   Log-Likelihood:                -455.59\n",
      "converged:                       True   LL-Null:                       -443.67\n",
      "Covariance Type:            nonrobust   LLR p-value:                       nan\n",
      "==============================================================================\n",
      "                 coef    std err          z      P>|z|      [0.025      0.975]\n",
      "------------------------------------------------------------------------------\n",
      "Embarked      -0.1669      0.048     -3.442      0.001      -0.262      -0.072\n",
      "==============================================================================\n",
      "Optimization terminated successfully.\n",
      "         Current function value: 0.687389\n",
      "         Iterations 4\n",
      "                           Logit Regression Results                           \n",
      "==============================================================================\n",
      "Dep. Variable:               Survived   No. Observations:                  666\n",
      "Model:                          Logit   Df Residuals:                      665\n",
      "Method:                           MLE   Df Model:                            0\n",
      "Date:                Fri, 18 Jun 2021   Pseudo R-squ.:                -0.03185\n",
      "Time:                        16:52:49   Log-Likelihood:                -457.80\n",
      "converged:                       True   LL-Null:                       -443.67\n",
      "Covariance Type:            nonrobust   LLR p-value:                       nan\n",
      "===============================================================================\n",
      "                  coef    std err          z      P>|z|      [0.025      0.975]\n",
      "-------------------------------------------------------------------------------\n",
      "First Class     0.4418      0.161      2.736      0.006       0.125       0.758\n",
      "===============================================================================\n",
      "Optimization terminated successfully.\n",
      "         Current function value: 0.693125\n",
      "         Iterations 3\n",
      "                           Logit Regression Results                           \n",
      "==============================================================================\n",
      "Dep. Variable:               Survived   No. Observations:                  666\n",
      "Model:                          Logit   Df Residuals:                      665\n",
      "Method:                           MLE   Df Model:                            0\n",
      "Date:                Fri, 18 Jun 2021   Pseudo R-squ.:                -0.04046\n",
      "Time:                        16:52:49   Log-Likelihood:                -461.62\n",
      "converged:                       True   LL-Null:                       -443.67\n",
      "Covariance Type:            nonrobust   LLR p-value:                       nan\n",
      "================================================================================\n",
      "                   coef    std err          z      P>|z|      [0.025      0.975]\n",
      "--------------------------------------------------------------------------------\n",
      "Second Class    -0.0290      0.170     -0.170      0.865      -0.363       0.305\n",
      "================================================================================\n",
      "Optimization terminated successfully.\n",
      "         Current function value: 0.618143\n",
      "         Iterations 5\n",
      "                           Logit Regression Results                           \n",
      "==============================================================================\n",
      "Dep. Variable:               Survived   No. Observations:                  666\n",
      "Model:                          Logit   Df Residuals:                      665\n",
      "Method:                           MLE   Df Model:                            0\n",
      "Date:                Fri, 18 Jun 2021   Pseudo R-squ.:                 0.07209\n",
      "Time:                        16:52:49   Log-Likelihood:                -411.68\n",
      "converged:                       True   LL-Null:                       -443.67\n",
      "Covariance Type:            nonrobust   LLR p-value:                       nan\n",
      "===============================================================================\n",
      "                  coef    std err          z      P>|z|      [0.025      0.975]\n",
      "-------------------------------------------------------------------------------\n",
      "Third Class    -1.1242      0.121     -9.266      0.000      -1.362      -0.886\n",
      "===============================================================================\n",
      "Optimization terminated successfully.\n",
      "         Current function value: 0.692862\n",
      "         Iterations 3\n",
      "                           Logit Regression Results                           \n",
      "==============================================================================\n",
      "Dep. Variable:               Survived   No. Observations:                  666\n",
      "Model:                          Logit   Df Residuals:                      665\n",
      "Method:                           MLE   Df Model:                            0\n",
      "Date:                Fri, 18 Jun 2021   Pseudo R-squ.:                -0.04007\n",
      "Time:                        16:52:49   Log-Likelihood:                -461.45\n",
      "converged:                       True   LL-Null:                       -443.67\n",
      "Covariance Type:            nonrobust   LLR p-value:                       nan\n",
      "==========================================================================================\n",
      "                             coef    std err          z      P>|z|      [0.025      0.975]\n",
      "------------------------------------------------------------------------------------------\n",
      "Young (0-20 years old)    -0.1086      0.176     -0.616      0.538      -0.454       0.237\n",
      "==========================================================================================\n",
      "Optimization terminated successfully.\n",
      "         Current function value: 0.684945\n",
      "         Iterations 4\n",
      "                           Logit Regression Results                           \n",
      "==============================================================================\n",
      "Dep. Variable:               Survived   No. Observations:                  666\n",
      "Model:                          Logit   Df Residuals:                      665\n",
      "Method:                           MLE   Df Model:                            0\n",
      "Date:                Fri, 18 Jun 2021   Pseudo R-squ.:                -0.02818\n",
      "Time:                        16:52:49   Log-Likelihood:                -456.17\n",
      "converged:                       True   LL-Null:                       -443.67\n",
      "Covariance Type:            nonrobust   LLR p-value:                       nan\n",
      "=================================================================================================\n",
      "                                    coef    std err          z      P>|z|      [0.025      0.975]\n",
      "-------------------------------------------------------------------------------------------------\n",
      "Young Adult (20-28 years old)    -0.5831      0.180     -3.237      0.001      -0.936      -0.230\n",
      "=================================================================================================\n",
      "Optimization terminated successfully.\n",
      "         Current function value: 0.678200\n",
      "         Iterations 4\n",
      "                           Logit Regression Results                           \n",
      "==============================================================================\n",
      "Dep. Variable:               Survived   No. Observations:                  666\n",
      "Model:                          Logit   Df Residuals:                      665\n",
      "Method:                           MLE   Df Model:                            0\n",
      "Date:                Fri, 18 Jun 2021   Pseudo R-squ.:                -0.01806\n",
      "Time:                        16:52:49   Log-Likelihood:                -451.68\n",
      "converged:                       True   LL-Null:                       -443.67\n",
      "Covariance Type:            nonrobust   LLR p-value:                       nan\n",
      "===========================================================================================\n",
      "                              coef    std err          z      P>|z|      [0.025      0.975]\n",
      "-------------------------------------------------------------------------------------------\n",
      "Adult (28-38 years old)    -0.5524      0.126     -4.379      0.000      -0.800      -0.305\n",
      "===========================================================================================\n",
      "Optimization terminated successfully.\n",
      "         Current function value: 0.685682\n",
      "         Iterations 4\n",
      "                           Logit Regression Results                           \n",
      "==============================================================================\n",
      "Dep. Variable:               Survived   No. Observations:                  666\n",
      "Model:                          Logit   Df Residuals:                      665\n",
      "Method:                           MLE   Df Model:                            0\n",
      "Date:                Fri, 18 Jun 2021   Pseudo R-squ.:                -0.02929\n",
      "Time:                        16:52:49   Log-Likelihood:                -456.66\n",
      "converged:                       True   LL-Null:                       -443.67\n",
      "Covariance Type:            nonrobust   LLR p-value:                       nan\n",
      "=======================================================================================\n",
      "                          coef    std err          z      P>|z|      [0.025      0.975]\n",
      "---------------------------------------------------------------------------------------\n",
      "Old (38+ years old)    -0.5596      0.181     -3.093      0.002      -0.914      -0.205\n",
      "=======================================================================================\n",
      "Optimization terminated successfully.\n",
      "         Current function value: 0.692231\n",
      "         Iterations 3\n",
      "                           Logit Regression Results                           \n",
      "==============================================================================\n",
      "Dep. Variable:               Survived   No. Observations:                  666\n",
      "Model:                          Logit   Df Residuals:                      665\n",
      "Method:                           MLE   Df Model:                            0\n",
      "Date:                Fri, 18 Jun 2021   Pseudo R-squ.:                -0.03912\n",
      "Time:                        16:52:49   Log-Likelihood:                -461.03\n",
      "converged:                       True   LL-Null:                       -443.67\n",
      "Covariance Type:            nonrobust   LLR p-value:                       nan\n",
      "=================================================================================\n",
      "                    coef    std err          z      P>|z|      [0.025      0.975]\n",
      "---------------------------------------------------------------------------------\n",
      "Have Siblings    -0.1527      0.138     -1.103      0.270      -0.424       0.119\n",
      "=================================================================================\n",
      "Optimization terminated successfully.\n",
      "         Current function value: 0.693105\n",
      "         Iterations 3\n",
      "                           Logit Regression Results                           \n",
      "==============================================================================\n",
      "Dep. Variable:               Survived   No. Observations:                  666\n",
      "Model:                          Logit   Df Residuals:                      665\n",
      "Method:                           MLE   Df Model:                            0\n",
      "Date:                Fri, 18 Jun 2021   Pseudo R-squ.:                -0.04043\n",
      "Time:                        16:52:49   Log-Likelihood:                -461.61\n",
      "converged:                       True   LL-Null:                       -443.67\n",
      "Covariance Type:            nonrobust   LLR p-value:                       nan\n",
      "============================================================================================\n",
      "                               coef    std err          z      P>|z|      [0.025      0.975]\n",
      "--------------------------------------------------------------------------------------------\n",
      "Have Parents or Children     0.0373      0.158      0.236      0.813      -0.272       0.346\n",
      "============================================================================================\n",
      "Optimization terminated successfully.\n",
      "         Current function value: 0.649446\n",
      "         Iterations 5\n",
      "                           Logit Regression Results                           \n",
      "==============================================================================\n",
      "Dep. Variable:               Survived   No. Observations:                  666\n",
      "Model:                          Logit   Df Residuals:                      665\n",
      "Method:                           MLE   Df Model:                            0\n",
      "Date:                Fri, 18 Jun 2021   Pseudo R-squ.:                 0.02510\n",
      "Time:                        16:52:49   Log-Likelihood:                -432.53\n",
      "converged:                       True   LL-Null:                       -443.67\n",
      "Covariance Type:            nonrobust   LLR p-value:                       nan\n",
      "======================================================================================\n",
      "                         coef    std err          z      P>|z|      [0.025      0.975]\n",
      "--------------------------------------------------------------------------------------\n",
      "Very Cheap (<7.9$)    -1.3122      0.190     -6.891      0.000      -1.685      -0.939\n",
      "======================================================================================\n",
      "Optimization terminated successfully.\n",
      "         Current function value: 0.676953\n",
      "         Iterations 4\n",
      "                           Logit Regression Results                           \n",
      "==============================================================================\n",
      "Dep. Variable:               Survived   No. Observations:                  666\n",
      "Model:                          Logit   Df Residuals:                      665\n",
      "Method:                           MLE   Df Model:                            0\n",
      "Date:                Fri, 18 Jun 2021   Pseudo R-squ.:                -0.01619\n",
      "Time:                        16:52:49   Log-Likelihood:                -450.85\n",
      "converged:                       True   LL-Null:                       -443.67\n",
      "Covariance Type:            nonrobust   LLR p-value:                       nan\n",
      "======================================================================================\n",
      "                         coef    std err          z      P>|z|      [0.025      0.975]\n",
      "--------------------------------------------------------------------------------------\n",
      "Cheap (7.9-14.45$)    -0.7482      0.167     -4.488      0.000      -1.075      -0.421\n",
      "======================================================================================\n",
      "Optimization terminated successfully.\n",
      "         Current function value: 0.691334\n",
      "         Iterations 4\n",
      "                           Logit Regression Results                           \n",
      "==============================================================================\n",
      "Dep. Variable:               Survived   No. Observations:                  666\n",
      "Model:                          Logit   Df Residuals:                      665\n",
      "Method:                           MLE   Df Model:                            0\n",
      "Date:                Fri, 18 Jun 2021   Pseudo R-squ.:                -0.03777\n",
      "Time:                        16:52:49   Log-Likelihood:                -460.43\n",
      "converged:                       True   LL-Null:                       -443.67\n",
      "Covariance Type:            nonrobust   LLR p-value:                       nan\n",
      "======================================================================================\n",
      "                         coef    std err          z      P>|z|      [0.025      0.975]\n",
      "--------------------------------------------------------------------------------------\n",
      "Normal (14.45-31$)    -0.2421      0.156     -1.549      0.121      -0.549       0.064\n",
      "======================================================================================\n",
      "Optimization terminated successfully.\n",
      "         Current function value: 0.691377\n",
      "         Iterations 4\n",
      "                           Logit Regression Results                           \n",
      "==============================================================================\n",
      "Dep. Variable:               Survived   No. Observations:                  666\n",
      "Model:                          Logit   Df Residuals:                      665\n",
      "Method:                           MLE   Df Model:                            0\n",
      "Date:                Fri, 18 Jun 2021   Pseudo R-squ.:                -0.03784\n",
      "Time:                        16:52:49   Log-Likelihood:                -460.46\n",
      "converged:                       True   LL-Null:                       -443.67\n",
      "Covariance Type:            nonrobust   LLR p-value:                       nan\n",
      "====================================================================================\n",
      "                       coef    std err          z      P>|z|      [0.025      0.975]\n",
      "------------------------------------------------------------------------------------\n",
      "Expensive (>31$)     0.2364      0.154      1.530      0.126      -0.066       0.539\n",
      "====================================================================================\n",
      "Optimization terminated successfully.\n",
      "         Current function value: 0.657158\n",
      "         Iterations 4\n",
      "                           Logit Regression Results                           \n",
      "==============================================================================\n",
      "Dep. Variable:               Survived   No. Observations:                  666\n",
      "Model:                          Logit   Df Residuals:                      665\n",
      "Method:                           MLE   Df Model:                            0\n",
      "Date:                Fri, 18 Jun 2021   Pseudo R-squ.:                 0.01353\n",
      "Time:                        16:52:49   Log-Likelihood:                -437.67\n",
      "converged:                       True   LL-Null:                       -443.67\n",
      "Covariance Type:            nonrobust   LLR p-value:                       nan\n",
      "===============================================================================\n",
      "                  coef    std err          z      P>|z|      [0.025      0.975]\n",
      "-------------------------------------------------------------------------------\n",
      "Southampton    -0.6415      0.095     -6.750      0.000      -0.828      -0.455\n",
      "===============================================================================\n",
      "Optimization terminated successfully.\n",
      "         Current function value: 0.692499\n",
      "         Iterations 3\n",
      "                           Logit Regression Results                           \n",
      "==============================================================================\n",
      "Dep. Variable:               Survived   No. Observations:                  666\n",
      "Model:                          Logit   Df Residuals:                      665\n",
      "Method:                           MLE   Df Model:                            0\n",
      "Date:                Fri, 18 Jun 2021   Pseudo R-squ.:                -0.03952\n",
      "Time:                        16:52:49   Log-Likelihood:                -461.20\n",
      "converged:                       True   LL-Null:                       -443.67\n",
      "Covariance Type:            nonrobust   LLR p-value:                       nan\n",
      "==============================================================================\n",
      "                 coef    std err          z      P>|z|      [0.025      0.975]\n",
      "------------------------------------------------------------------------------\n",
      "Cherbourg      0.1728      0.186      0.927      0.354      -0.192       0.538\n",
      "==============================================================================\n",
      "Optimization terminated successfully.\n",
      "         Current function value: 0.691333\n",
      "         Iterations 4\n",
      "                           Logit Regression Results                           \n",
      "==============================================================================\n",
      "Dep. Variable:               Survived   No. Observations:                  666\n",
      "Model:                          Logit   Df Residuals:                      665\n",
      "Method:                           MLE   Df Model:                            0\n",
      "Date:                Fri, 18 Jun 2021   Pseudo R-squ.:                -0.03777\n",
      "Time:                        16:52:49   Log-Likelihood:                -460.43\n",
      "converged:                       True   LL-Null:                       -443.67\n",
      "Covariance Type:            nonrobust   LLR p-value:                       nan\n",
      "==============================================================================\n",
      "                 coef    std err          z      P>|z|      [0.025      0.975]\n",
      "------------------------------------------------------------------------------\n",
      "Queenstown    -0.4055      0.264     -1.539      0.124      -0.922       0.111\n",
      "==============================================================================\n"
     ]
    }
   ],
   "source": [
    "import statsmodels.api as sm\n",
    "\n",
    "X_train_sm = sm.add_constant(X_train)\n",
    "\n",
    "for feature in X_train:\n",
    "    model = sm.Logit(y_train, X_train_sm[feature])\n",
    "    result = model.fit()\n",
    "    print(result.summary())"
   ]
  },
  {
   "cell_type": "code",
   "execution_count": 74,
   "metadata": {},
   "outputs": [
    {
     "output_type": "stream",
     "name": "stdout",
     "text": [
      "Optimization terminated successfully.\n         Current function value: 0.442952\n         Iterations 9\n                           Logit Regression Results                           \n==============================================================================\nDep. Variable:               Survived   No. Observations:                  666\nModel:                          Logit   Df Residuals:                      651\nMethod:                           MLE   Df Model:                           14\nDate:                Fri, 18 Jun 2021   Pseudo R-squ.:                  0.3351\nTime:                        16:53:33   Log-Likelihood:                -295.01\nconverged:                       True   LL-Null:                       -443.67\nCovariance Type:            nonrobust   LLR p-value:                 4.266e-55\n=================================================================================================\n                                    coef    std err          z      P>|z|      [0.025      0.975]\n-------------------------------------------------------------------------------------------------\nPclass                           -0.2632    2.8e+06  -9.41e-08      1.000   -5.49e+06    5.49e+06\nSex                               2.6660      0.229     11.649      0.000       2.217       3.115\nAge                              -0.0608      0.022     -2.763      0.006      -0.104      -0.018\nFare                              0.0015      0.003      0.569      0.569      -0.004       0.007\nSibSp                            -0.4467      0.146     -3.052      0.002      -0.734      -0.160\nEmbarked                          0.4107        nan        nan        nan         nan         nan\nFirst Class                       0.4793    2.8e+06   1.71e-07      1.000    -5.5e+06     5.5e+06\nThird Class                      -0.8141    2.8e+06   -2.9e-07      1.000    -5.5e+06     5.5e+06\nYoung Adult (20-28 years old)    -0.0080      0.421     -0.019      0.985      -0.834       0.818\nAdult (28-38 years old)           0.4319      0.507      0.853      0.394      -0.561       1.425\nOld (38+ years old)               0.8371      0.843      0.993      0.321      -0.816       2.490\nVery Cheap (<7.9$)               -0.1212        nan        nan        nan         nan         nan\nCheap (7.9-14.45$)                0.1298        nan        nan        nan         nan         nan\nNormal (14.45-31$)                0.2852        nan        nan        nan         nan         nan\nExpensive (>31$)                  0.2212        nan        nan        nan         nan         nan\nSouthampton                       0.3748        nan        nan        nan         nan         nan\nQueenstown                        0.3850        nan        nan        nan         nan         nan\n=================================================================================================\n"
     ]
    }
   ],
   "source": [
    "features = ['Pclass', 'Sex', 'Age', 'Fare', 'SibSp','Embarked','First Class', 'Third Class',\n",
    "       'Young Adult (20-28 years old)', 'Adult (28-38 years old)',\n",
    "       'Old (38+ years old)', 'Very Cheap (<7.9$)', 'Cheap (7.9-14.45$)', 'Normal (14.45-31$)',\n",
    "       'Expensive (>31$)','Southampton','Queenstown']\n",
    "\n",
    "model = sm.Logit(y_train, X_train_sm[features])\n",
    "result = model.fit()\n",
    "print(result.summary())"
   ]
  },
  {
   "cell_type": "code",
   "execution_count": 75,
   "metadata": {},
   "outputs": [
    {
     "output_type": "stream",
     "name": "stdout",
     "text": [
      "Optimization terminated successfully.\n         Current function value: 0.454046\n         Iterations 6\n                           Logit Regression Results                           \n==============================================================================\nDep. Variable:               Survived   No. Observations:                  666\nModel:                          Logit   Df Residuals:                      660\nMethod:                           MLE   Df Model:                            5\nDate:                Fri, 18 Jun 2021   Pseudo R-squ.:                  0.3184\nTime:                        16:53:52   Log-Likelihood:                -302.39\nconverged:                       True   LL-Null:                       -443.67\nCovariance Type:            nonrobust   LLR p-value:                 5.643e-59\n==============================================================================\n                 coef    std err          z      P>|z|      [0.025      0.975]\n------------------------------------------------------------------------------\nPclass        -0.6273      0.094     -6.655      0.000      -0.812      -0.443\nSex            2.7154      0.218     12.481      0.000       2.289       3.142\nAge           -0.0207      0.006     -3.213      0.001      -0.033      -0.008\nFare           0.0040      0.002      1.602      0.109      -0.001       0.009\nSibSp         -0.3252      0.112     -2.897      0.004      -0.545      -0.105\nEmbarked       0.3574      0.127      2.816      0.005       0.109       0.606\n==============================================================================\n"
     ]
    }
   ],
   "source": [
    "features = ['Pclass','Sex', 'Age', 'Fare','SibSp','Embarked']\n",
    "\n",
    "model = sm.Logit(y_train, X_train_sm[features])\n",
    "result = model.fit()\n",
    "print(result.summary())"
   ]
  },
  {
   "cell_type": "code",
   "execution_count": 76,
   "metadata": {},
   "outputs": [
    {
     "output_type": "stream",
     "name": "stdout",
     "text": [
      "Optimization terminated successfully.\n         Current function value: 0.449334\n         Iterations 6\n                           Logit Regression Results                           \n==============================================================================\nDep. Variable:               Survived   No. Observations:                  666\nModel:                          Logit   Df Residuals:                      653\nMethod:                           MLE   Df Model:                           12\nDate:                Fri, 18 Jun 2021   Pseudo R-squ.:                  0.3255\nTime:                        16:54:00   Log-Likelihood:                -299.26\nconverged:                       True   LL-Null:                       -443.67\nCovariance Type:            nonrobust   LLR p-value:                 1.039e-54\n=================================================================================================\n                                    coef    std err          z      P>|z|      [0.025      0.975]\n-------------------------------------------------------------------------------------------------\nSex                               2.6520      0.227     11.680      0.000       2.207       3.097\nSibSp                            -0.4023      0.141     -2.855      0.004      -0.678      -0.126\nFirst Class                       0.6095      0.372      1.638      0.101      -0.120       1.339\nThird Class                      -1.0713      0.291     -3.686      0.000      -1.641      -0.502\nYoung Adult (20-28 years old)    -0.6897      0.336     -2.051      0.040      -1.349      -0.031\nAdult (28-38 years old)          -0.6838      0.300     -2.281      0.023      -1.272      -0.096\nOld (38+ years old)              -1.3260      0.357     -3.709      0.000      -2.027      -0.625\nVery Cheap (<7.9$)               -0.1642      0.511     -0.321      0.748      -1.165       0.837\nCheap (7.9-14.45$)                0.0352      0.432      0.081      0.935      -0.811       0.882\nNormal (14.45-31$)                0.3089      0.440      0.702      0.483      -0.554       1.172\nExpensive (>31$)                  0.3410      0.508      0.671      0.502      -0.656       1.338\nSouthampton                      -0.4839      0.282     -1.715      0.086      -1.037       0.069\nQueenstown                        0.0102      0.455      0.022      0.982      -0.882       0.903\n=================================================================================================\n"
     ]
    }
   ],
   "source": [
    "features = ['Sex','SibSp','First Class', 'Third Class',\n",
    "       'Young Adult (20-28 years old)', 'Adult (28-38 years old)',\n",
    "       'Old (38+ years old)', 'Very Cheap (<7.9$)', 'Cheap (7.9-14.45$)', 'Normal (14.45-31$)',\n",
    "       'Expensive (>31$)','Southampton','Queenstown']\n",
    "\n",
    "model = sm.Logit(y_train, X_train_sm[features])\n",
    "result = model.fit()\n",
    "print(result.summary())"
   ]
  },
  {
   "cell_type": "code",
   "execution_count": 77,
   "metadata": {},
   "outputs": [
    {
     "output_type": "stream",
     "name": "stdout",
     "text": [
      "Optimization terminated successfully.\n         Current function value: 0.449334\n         Iterations 6\n                           Logit Regression Results                           \n==============================================================================\nDep. Variable:               Survived   No. Observations:                  666\nModel:                          Logit   Df Residuals:                      654\nMethod:                           MLE   Df Model:                           11\nDate:                Fri, 18 Jun 2021   Pseudo R-squ.:                  0.3255\nTime:                        16:54:09   Log-Likelihood:                -299.26\nconverged:                       True   LL-Null:                       -443.67\nCovariance Type:            nonrobust   LLR p-value:                 1.975e-55\n=================================================================================================\n                                    coef    std err          z      P>|z|      [0.025      0.975]\n-------------------------------------------------------------------------------------------------\nSex                               2.6527      0.225     11.801      0.000       2.212       3.093\nSibSp                            -0.4022      0.141     -2.855      0.004      -0.678      -0.126\nFirst Class                       0.6087      0.371      1.643      0.100      -0.118       1.335\nThird Class                      -1.0709      0.290     -3.692      0.000      -1.640      -0.502\nYoung Adult (20-28 years old)    -0.6900      0.336     -2.053      0.040      -1.349      -0.031\nAdult (28-38 years old)          -0.6830      0.297     -2.296      0.022      -1.266      -0.100\nOld (38+ years old)              -1.3254      0.357     -3.717      0.000      -2.024      -0.627\nVery Cheap (<7.9$)               -0.1603      0.480     -0.334      0.738      -1.101       0.781\nCheap (7.9-14.45$)                0.0376      0.418      0.090      0.928      -0.782       0.857\nNormal (14.45-31$)                0.3113      0.428      0.728      0.467      -0.527       1.149\nExpensive (>31$)                  0.3431      0.500      0.686      0.492      -0.637       1.323\nSouthampton                      -0.4870      0.244     -1.999      0.046      -0.964      -0.010\n=================================================================================================\n"
     ]
    }
   ],
   "source": [
    "features = ['Sex','SibSp','First Class', 'Third Class',\n",
    "       'Young Adult (20-28 years old)', 'Adult (28-38 years old)',\n",
    "       'Old (38+ years old)', 'Very Cheap (<7.9$)', 'Cheap (7.9-14.45$)', 'Normal (14.45-31$)',\n",
    "       'Expensive (>31$)','Southampton']\n",
    "\n",
    "model = sm.Logit(y_train, X_train_sm[features])\n",
    "result = model.fit()\n",
    "print(result.summary())"
   ]
  },
  {
   "cell_type": "code",
   "execution_count": 78,
   "metadata": {},
   "outputs": [
    {
     "output_type": "stream",
     "name": "stdout",
     "text": [
      "Optimization terminated successfully.\n         Current function value: 0.449340\n         Iterations 6\n                           Logit Regression Results                           \n==============================================================================\nDep. Variable:               Survived   No. Observations:                  666\nModel:                          Logit   Df Residuals:                      655\nMethod:                           MLE   Df Model:                           10\nDate:                Fri, 18 Jun 2021   Pseudo R-squ.:                  0.3255\nTime:                        16:54:14   Log-Likelihood:                -299.26\nconverged:                       True   LL-Null:                       -443.67\nCovariance Type:            nonrobust   LLR p-value:                 3.585e-56\n=================================================================================================\n                                    coef    std err          z      P>|z|      [0.025      0.975]\n-------------------------------------------------------------------------------------------------\nSex                               2.6556      0.222     11.940      0.000       2.220       3.092\nSibSp                            -0.4026      0.141     -2.860      0.004      -0.678      -0.127\nFirst Class                       0.6143      0.365      1.682      0.093      -0.102       1.330\nThird Class                      -1.0591      0.258     -4.099      0.000      -1.565      -0.553\nYoung Adult (20-28 years old)    -0.6771      0.304     -2.229      0.026      -1.273      -0.082\nAdult (28-38 years old)          -0.6694      0.256     -2.616      0.009      -1.171      -0.168\nOld (38+ years old)              -1.3127      0.327     -4.010      0.000      -1.954      -0.671\nVery Cheap (<7.9$)               -0.1913      0.334     -0.572      0.567      -0.846       0.464\nNormal (14.45-31$)                0.2837      0.298      0.951      0.342      -0.301       0.869\nExpensive (>31$)                  0.3166      0.403      0.785      0.433      -0.474       1.107\nSouthampton                      -0.4741      0.197     -2.412      0.016      -0.859      -0.089\n=================================================================================================\n"
     ]
    }
   ],
   "source": [
    "features = ['Sex','SibSp','First Class', 'Third Class',\n",
    "       'Young Adult (20-28 years old)', 'Adult (28-38 years old)',\n",
    "       'Old (38+ years old)', 'Very Cheap (<7.9$)', 'Normal (14.45-31$)',\n",
    "       'Expensive (>31$)','Southampton']\n",
    "\n",
    "model = sm.Logit(y_train, X_train_sm[features])\n",
    "result = model.fit()\n",
    "print(result.summary())"
   ]
  },
  {
   "cell_type": "code",
   "execution_count": 79,
   "metadata": {},
   "outputs": [],
   "source": [
    "from sklearn.linear_model import LogisticRegressionCV\n",
    "model1 = LogisticRegressionCV(cv=5, max_iter=1000,random_state=0).fit(X_train[features],y_train)"
   ]
  },
  {
   "cell_type": "code",
   "execution_count": 80,
   "metadata": {},
   "outputs": [
    {
     "output_type": "stream",
     "name": "stdout",
     "text": [
      "0.8048048048048048\n"
     ]
    },
    {
     "output_type": "execute_result",
     "data": {
      "text/plain": [
       "0.8026905829596412"
      ]
     },
     "metadata": {},
     "execution_count": 80
    }
   ],
   "source": [
    "print(model1.score(X_train[features],y_train))\n",
    "model1.score(X_test[features],y_test)"
   ]
  },
  {
   "cell_type": "code",
   "execution_count": 81,
   "metadata": {},
   "outputs": [],
   "source": [
    "from sklearn.model_selection import GridSearchCV\n",
    "from sklearn.naive_bayes import MultinomialNB\n",
    "param_grid = {'alpha' : np.arange(0.1,1,0.1)}\n",
    "\n",
    "grid = GridSearchCV(MultinomialNB(),param_grid,cv=5).fit(X_train[features],y_train)\n",
    "model2 = grid.best_estimator_"
   ]
  },
  {
   "cell_type": "code",
   "execution_count": 82,
   "metadata": {},
   "outputs": [
    {
     "output_type": "stream",
     "name": "stdout",
     "text": [
      "0.7462462462462462\n"
     ]
    },
    {
     "output_type": "execute_result",
     "data": {
      "text/plain": [
       "0.7802690582959642"
      ]
     },
     "metadata": {},
     "execution_count": 82
    }
   ],
   "source": [
    "print(model2.score(X_train[features],y_train))\n",
    "model2.score(X_test[features],y_test)"
   ]
  },
  {
   "cell_type": "code",
   "execution_count": 121,
   "metadata": {},
   "outputs": [],
   "source": [
    "from sklearn.ensemble import RandomForestClassifier\n",
    "param_grid = {'n_estimators' : np.arange(170,180,1)}\n",
    "grid = GridSearchCV(RandomForestClassifier(),param_grid,cv=5).fit(X_train,y_train)\n",
    "model3 = grid.best_estimator_"
   ]
  },
  {
   "cell_type": "code",
   "execution_count": 122,
   "metadata": {},
   "outputs": [
    {
     "output_type": "stream",
     "name": "stdout",
     "text": [
      "{'n_estimators': 172}\n0.9804804804804805\n"
     ]
    },
    {
     "output_type": "execute_result",
     "data": {
      "text/plain": [
       "0.8116591928251121"
      ]
     },
     "metadata": {},
     "execution_count": 122
    }
   ],
   "source": [
    "print(grid.best_params_)\n",
    "print(model3.score(X_train,y_train))\n",
    "model3.score(X_test,y_test)"
   ]
  },
  {
   "cell_type": "code",
   "execution_count": 119,
   "metadata": {},
   "outputs": [],
   "source": [
    "from sklearn.ensemble import AdaBoostClassifier\n",
    "from sklearn.tree import DecisionTreeClassifier\n",
    "\n",
    "param_grid = {'n_estimators' : np.arange(110,140,1),'learning_rate':[0.08]}\n",
    "grid = GridSearchCV(AdaBoostClassifier(DecisionTreeClassifier(random_state=0)),param_grid,cv=5).fit(X_train,y_train)\n",
    "model4 = grid.best_estimator_"
   ]
  },
  {
   "cell_type": "code",
   "execution_count": 120,
   "metadata": {},
   "outputs": [
    {
     "output_type": "stream",
     "name": "stdout",
     "text": [
      "{'learning_rate': 0.08, 'n_estimators': 139}\n0.9804804804804805\n"
     ]
    },
    {
     "output_type": "execute_result",
     "data": {
      "text/plain": [
       "0.8071748878923767"
      ]
     },
     "metadata": {},
     "execution_count": 120
    }
   ],
   "source": [
    "print(grid.best_params_)\n",
    "print(model4.score(X_train,y_train))\n",
    "model4.score(X_test,y_test)"
   ]
  },
  {
   "cell_type": "code",
   "execution_count": 123,
   "metadata": {},
   "outputs": [
    {
     "output_type": "execute_result",
     "data": {
      "text/plain": [
       "     PassengerId  Survived\n",
       "0            892         0\n",
       "1            893         0\n",
       "2            894         0\n",
       "3            895         0\n",
       "4            896         0\n",
       "..           ...       ...\n",
       "413         1305         0\n",
       "414         1306         1\n",
       "415         1307         0\n",
       "416         1308         0\n",
       "417         1309         0\n",
       "\n",
       "[418 rows x 2 columns]"
      ],
      "text/html": "<div>\n<style scoped>\n    .dataframe tbody tr th:only-of-type {\n        vertical-align: middle;\n    }\n\n    .dataframe tbody tr th {\n        vertical-align: top;\n    }\n\n    .dataframe thead th {\n        text-align: right;\n    }\n</style>\n<table border=\"1\" class=\"dataframe\">\n  <thead>\n    <tr style=\"text-align: right;\">\n      <th></th>\n      <th>PassengerId</th>\n      <th>Survived</th>\n    </tr>\n  </thead>\n  <tbody>\n    <tr>\n      <th>0</th>\n      <td>892</td>\n      <td>0</td>\n    </tr>\n    <tr>\n      <th>1</th>\n      <td>893</td>\n      <td>0</td>\n    </tr>\n    <tr>\n      <th>2</th>\n      <td>894</td>\n      <td>0</td>\n    </tr>\n    <tr>\n      <th>3</th>\n      <td>895</td>\n      <td>0</td>\n    </tr>\n    <tr>\n      <th>4</th>\n      <td>896</td>\n      <td>0</td>\n    </tr>\n    <tr>\n      <th>...</th>\n      <td>...</td>\n      <td>...</td>\n    </tr>\n    <tr>\n      <th>413</th>\n      <td>1305</td>\n      <td>0</td>\n    </tr>\n    <tr>\n      <th>414</th>\n      <td>1306</td>\n      <td>1</td>\n    </tr>\n    <tr>\n      <th>415</th>\n      <td>1307</td>\n      <td>0</td>\n    </tr>\n    <tr>\n      <th>416</th>\n      <td>1308</td>\n      <td>0</td>\n    </tr>\n    <tr>\n      <th>417</th>\n      <td>1309</td>\n      <td>0</td>\n    </tr>\n  </tbody>\n</table>\n<p>418 rows × 2 columns</p>\n</div>"
     },
     "metadata": {},
     "execution_count": 123
    }
   ],
   "source": [
    "features_model_3 = ['Pclass', 'Sex', 'Age', 'Fare', 'SibSp', 'Parch', 'Embarked','First Class',\n",
    "       'Second Class', 'Third Class', 'Young (0-20 years old)',\n",
    "       'Young Adult (20-28 years old)', 'Adult (28-38 years old)',\n",
    "       'Old (38+ years old)', 'Have Siblings', 'Have Parents or Children',\n",
    "       'Very Cheap (<7.9$)', 'Cheap (7.9-14.45$)', 'Normal (14.45-31$)',\n",
    "       'Expensive (>31$)','Southampton','Cherbourg','Queenstown']\n",
    "\n",
    "finalprediction = pd.DataFrame(finalTestSet['PassengerId'])\n",
    "finalprediction['Survived Probability'] = ( model1.score(X_test[features],y_test) * model1.predict_proba(finalTestSet[features])[:,1] + model2.score(X_test[features],y_test) * model2.predict_proba(finalTestSet[features])[:,1] + model3.score(X_test,y_test) * model3.predict_proba(finalTestSet[features_model_3])[:,1] ) / (model1.score(X_test[features],y_test)+model2.score(X_test[features],y_test) + model3.score(X_test,y_test))\n",
    "\n",
    "finalprediction['Survived'] = finalprediction['Survived Probability'].apply(lambda x: 0 if x < 0.5 else 1)\n",
    "finalprediction.drop('Survived Probability',axis=1,inplace=True)\n",
    "\n"
   ]
  },
  {
   "cell_type": "code",
   "execution_count": 124,
   "metadata": {},
   "outputs": [],
   "source": [
    "finalprediction.to_csv('prediction.csv')"
   ]
  },
  {
   "cell_type": "code",
   "execution_count": null,
   "metadata": {},
   "outputs": [],
   "source": []
  }
 ]
}